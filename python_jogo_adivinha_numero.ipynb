{
  "nbformat": 4,
  "nbformat_minor": 0,
  "metadata": {
    "colab": {
      "name": "python_jogo_adivinha_numero.ipynb",
      "provenance": [],
      "authorship_tag": "ABX9TyOkb2xn9nONRVuqEr+6sAT7"
    },
    "kernelspec": {
      "name": "python3",
      "display_name": "Python 3"
    }
  },
  "cells": [
    {
      "cell_type": "markdown",
      "metadata": {
        "id": "VYJg32Rkkfen"
      },
      "source": [
        "Jogo em Python, onde o usuário adivinha um número entre 1 e 100 em até 10 tentativas.\r\n",
        "\r\n",
        "\r\n"
      ]
    },
    {
      "cell_type": "code",
      "metadata": {
        "colab": {
          "base_uri": "https://localhost:8080/"
        },
        "id": "9VJ7m6_dlv_s",
        "outputId": "75a860a6-5ef1-4b8e-c1ae-e2fb4b17a80e"
      },
      "source": [
        "import random\r\n",
        "\r\n",
        "jogador =''\r\n",
        "\r\n",
        "print(\"#######################################\")\r\n",
        "print(\"#######################################\")\r\n",
        "print(\"##### JOGO - ADIVINHE O NÚMERO ########\")\r\n",
        "print(\"#######################################\")\r\n",
        "print(\"#### VOCÊ TERÁ 10 TENTATIVAS... ########\")\r\n",
        "print(\"#######################################\")\r\n",
        "print(\"\")\r\n",
        "print(\"\")\r\n",
        "\r\n",
        "jogador = input(\"Entre com o seu nome: \")\r\n",
        "jogador_escolheu = 0\r\n",
        "numero_chances = 10\r\n",
        "numero_sorteado = 0\r\n",
        "\r\n",
        "numero_sorteado = random.randint(1,100)\r\n",
        "\r\n",
        "print(\"\")\r\n",
        "print(\"Adivinhe qual é o número sorteado entre 1 e 100... \")\r\n",
        "\r\n",
        "tentativa = 1\r\n",
        "\r\n",
        "while tentativa <= 10:\r\n",
        "\r\n",
        "  jogador_escolheu = int(input(\"Digite o número: \"))\r\n",
        "\r\n",
        "  if jogador_escolheu < numero_sorteado:\r\n",
        "    print(\"Errado! Número menor que o sorteado... Tente novamente!\")\r\n",
        "      \r\n",
        "  elif jogador_escolheu == numero_sorteado:\r\n",
        "    print(f\"LEGAL! VOCÊ ACERTOU! Parabéns, {jogador}!\")\r\n",
        "    print(\"Você acertou com %d tentativas.\" %tentativa)\r\n",
        "    tentativa = 11\r\n",
        "  \r\n",
        "  else:\r\n",
        "     print(\"Errado! Número maior que o sorteado... Tente novamente!\")\r\n",
        "\r\n",
        "\r\n",
        "  if tentativa == 9:\r\n",
        "       print(\"Última tentativa!!!\")\r\n",
        "  elif tentativa == 10:\r\n",
        "       print(\"==========> FIM DO JOGO <===========\")\r\n",
        "     \r\n",
        "  tentativa = tentativa + 1\r\n",
        "    \r\n",
        "\r\n"
      ],
      "execution_count": 1,
      "outputs": [
        {
          "output_type": "stream",
          "text": [
            "#######################################\n",
            "#######################################\n",
            "##### JOGO - ADIVINHE O NÚMERO ########\n",
            "#######################################\n",
            "#### VOCÊ TERÁ 10 TENTATIVAS... ########\n",
            "#######################################\n",
            "\n",
            "\n",
            "Entre com o seu nome: Rafael\n",
            "\n",
            "Adivinhe qual é o número sorteado entre 1 e 100... \n",
            "Digite o número: 50\n",
            "Errado! Número maior que o sorteado... Tente novamente!\n",
            "Digite o número: 25\n",
            "Errado! Número maior que o sorteado... Tente novamente!\n",
            "Digite o número: 13\n",
            "Errado! Número menor que o sorteado... Tente novamente!\n",
            "Digite o número: 18\n",
            "Errado! Número menor que o sorteado... Tente novamente!\n",
            "Digite o número: 22\n",
            "Errado! Número maior que o sorteado... Tente novamente!\n",
            "Digite o número: 20\n",
            "LEGAL! VOCÊ ACERTOU! Parabéns, Rafael!\n",
            "Você acertou com 6 tentativas.\n"
          ],
          "name": "stdout"
        }
      ]
    }
  ]
}